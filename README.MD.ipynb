{
 "cells": [
  {
   "cell_type": "markdown",
   "id": "06322636",
   "metadata": {},
   "source": [
    "## TIME SERIES SALES FORCASTING - REGRESSION\n",
    "\n",
    "\n",
    "### INTRODUCTION\n",
    "Time series forecasting is one of the key topics of machine learning. The fact that so many prediction issues have a temporal component makes it crucial. In contrast to many other prediction tasks, time series issues are more challenging since the time component contributes more information.\n",
    "\n",
    "#### TIME SERIES FORCASTING APPLICATION\n",
    "Time series forecasting is employed in various sectors, including finance, supply chain management, production, and inventory planning, making it one of the most widely used data science approaches. Time series forecasting has many applications, including resource allocation, business planning, weather forecasts, and stock price prediction.\n",
    "\n",
    "Time series forecasting can be used by any business or organization dealing with continuously generated data and the requirement to adjust to operational shifts and changes. Here, machine learning acts as the greatest enabler, improving our ability to:\n",
    "\n",
    "#### Web traffic forecasting:\n",
    "In order to forecast online traffic rates during certain periods, common data on typical traffic rates among competing websites is combined with input data on traffic-related trends.\n",
    "\n",
    "Sales and demand forecasting:\n",
    "Customer behavior pattern data, in combination with inputs from purchase history, demand history, seasonal influence, etc., enables machine learning models to identify the most demanded items and pinpoint their placement in the dynamic market.\n",
    "\n",
    "#### Weather prediction:\n",
    "Time-based data is routinely collected from a variety of globally networked weather stations, and machine learning approaches enable in-depth analysis and interpretation of the data for future forecasts based on statistical dynamics.\n",
    "\n",
    "#### Stock price forecasting:\n",
    "In order to make accurate forecasts of the most likely impending stock price movements, one can integrate historical stock price data with information on regular and atypical spikes and decreases in the stock market.\n",
    "\n",
    "#### Economic and demographic forecasting:\n",
    "Demographics and economics have a ton of statistical data that can be utilized to forecast time series data effectively. Consequently, the ideal target market can be determined, and the most effective strategies to communicate with that specific TA may be developed.\n",
    "\n",
    "#### Academics:\n",
    "The concepts of machine learning and deep learning greatly speed up the processes of refining and launching scientific ideas. For instance, scientific data that must go through infinite analytical cycles may be analyzed considerably more quickly with machine learning patterns.\n",
    "\n",
    "## PROJECT METHODOLOGY\n",
    "\n",
    "The CRIPS-DM framework will be used in this project.\n",
    "\n",
    "### PROJECT OBJECTIVE\n",
    "In this project, we'll predict store sales on data from Corporation Favorita, a large Ecuadorian-based grocery retailer.\n",
    "\n",
    "We shall also build a model that will accurately predicts the unit sales for thousands of items sold at different Favorita stores.\n",
    "\n",
    "### HYPOTHESIS STATEMENT\n",
    "Null Hypothesis: The dataset is not stationary.\n",
    "\n",
    "Alternate Hypothesis: The dataset is stationary\n",
    "\n",
    "### ANALYTICAL QUESTIONS\n",
    "1) Is the train dataset complete (has all the required dates)?\n",
    "\n",
    "2) Which dates have the lowest and highest sales for each year?\n",
    "\n",
    "3) Did the earthquake impact sales?\n",
    "\n",
    "4) Are certain groups of stores selling more products? (Cluster, city, state, type)\n",
    "\n",
    "5) Are sales affected by promotions, oil prices and holidays?\n",
    "\n",
    "6) What analysis can we get from the date and its extractable features?\n",
    "\n",
    "7) What is the difference between RMSLE, RMSE, MSE (or why is the MAE greater than all of them?)\n"
   ]
  },
  {
   "cell_type": "markdown",
   "id": "8520ff3c",
   "metadata": {},
   "source": [
    "## IMPORTING LIBRARIES\n"
   ]
  },
  {
   "cell_type": "code",
   "execution_count": null,
   "id": "60e6f320",
   "metadata": {},
   "outputs": [],
   "source": []
  }
 ],
 "metadata": {
  "kernelspec": {
   "display_name": "Python 3 (ipykernel)",
   "language": "python",
   "name": "python3"
  },
  "language_info": {
   "codemirror_mode": {
    "name": "ipython",
    "version": 3
   },
   "file_extension": ".py",
   "mimetype": "text/x-python",
   "name": "python",
   "nbconvert_exporter": "python",
   "pygments_lexer": "ipython3",
   "version": "3.9.13"
  }
 },
 "nbformat": 4,
 "nbformat_minor": 5
}
